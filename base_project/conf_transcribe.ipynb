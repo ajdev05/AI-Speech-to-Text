{
 "cells": [
  {
   "cell_type": "code",
   "execution_count": 6,
   "id": "4e150414-658f-4e19-9bab-b2c5a27bb3cc",
   "metadata": {},
   "outputs": [],
   "source": [
    "import whisper\n",
    "import torch\n",
    "import warnings\n",
    "import time\n",
    "\n",
    "warnings.filterwarnings(\"ignore\", category=FutureWarning)\n"
   ]
  },
  {
   "cell_type": "code",
   "execution_count": 7,
   "id": "6b29337c-9e32-4a72-ab27-360088d10e42",
   "metadata": {},
   "outputs": [],
   "source": [
    "model = whisper.load_model(\"medium.en\")\n"
   ]
  },
  {
   "cell_type": "code",
   "execution_count": 8,
   "id": "7d9b63b9-fb92-4b8c-93bf-64037181b149",
   "metadata": {},
   "outputs": [],
   "source": [
    "def transcribe_process(audio_file, num_passes=5):\n",
    "    transcriptions = []\n",
    "    print(\"Running Analysis...\")\n",
    "    for i in range(num_passes):\n",
    "        result = model.transcribe(audio_file, temperature=0.0, best_of=5)  \n",
    "        transcriptions.append(result['text'].strip())\n",
    "\n",
    "    most_common_transcription = max(set(transcriptions), key=transcriptions.count)\n",
    "    return most_common_transcription"
   ]
  },
  {
   "cell_type": "code",
   "execution_count": 9,
   "id": "1b9e861a-9b0c-47ef-8739-d8dd78ee6b2f",
   "metadata": {},
   "outputs": [
    {
     "name": "stdout",
     "output_type": "stream",
     "text": [
      "Running Analysis...\n",
      "\n",
      "Final Transcription: Apple's up more than 6% right now, Google about 3%, but Dell, Intel, Research Motion, and Microsoft are all to the upside. Look how strong. Trading did not disappoint. 400 points higher, yes indeed. The market's more higher, last 30 minutes of trading, as volatility once again rules the day. Most of the techs this morning, if not all of them, have just exploded to the... We're down 1.7% here, a loss of 37 points or so. Apple shares were just getting hammered this morning. We're down by between 3 and 4.5% generally across these markets. Let's talk about the speed with which we are watching this market deteriorate. We've read everywhere essentially, down by 4, 5%. We're down over 16%. Dow at the same time has fallen about 18%. The stock market is now down 21%. We're now down 43%. What in the world is happening on Wall Street? Two year no yields went from 190 to 166 in the blink of an eye. The Nasdaq, everything and more has been completely wiped out. It was the worst day on Wall Street since the crash of 1987. The financial capital of the world. The opening bell is going to ring in five seconds and to be honest with you, we wish it wouldn't. Traders here working the phone say a lot of their customers are freaked out waiting to see how low the Dow will go. They're focused on the Dow, not so focused on OK. Yes, OK did cut production by 1.5 million barrels per day. Really you're seeing just broad-based declines across all of the major technology sectors. Apple's under pressure. Yahoo down 8.5%, Cisco 6.5%, research in motion 10%. And we're not getting the bid wanted, we're not getting the stop trading and we see where the buyers are. We're just, every day they're pounding it. The heightened financial turmoil that we have experienced of late may well lengthen the period of weak economic performance and further increase the risk to growth. Can't look at it after you buy it because it's so horrible. We've had an eight day losing streak in the Dow that in percentage terms puts it on par close to the loss suffered in that crash in 1987, close to that percentage loss those two days in 1929. What started in America last year has now spread to every part of the world. We're down 9% today, the Zetra Dax over in Frankfurt is down by 9%, the Paris market down by 9%, Austria which was briefly suspended earlier on in the day is down by nearly 11%. This market is as volatile as you'll ever see. Traders say this is the craziest day they have ever seen in these markets. Veteran traders say they've never seen anything like it. The movement in oil prices so fast. Seconds ago until the start of trading at the New York Stock Exchange and stocks are set to kick off lower, a whole lot lower. eBay is down 6.5% and really you're seeing just broad based declines across all of the major technology sectors. Apple's under pressure, Yahoo down 8.5%, Cisco 6.5%, Research in Motion 10%. This could be the most serious recession in decades and that means life as most Americans know it is about to change, in some cases dramatically.\n",
      "\n",
      "Time taken: 96.52 seconds\n"
     ]
    }
   ],
   "source": [
    "start_time = time.time()\n",
    "final_transcription = transcribe_process(\"crashing.mp3\")\n",
    "elapsed_time = time.time() - start_time\n",
    "print(\"\\nFinal Transcription:\", final_transcription)\n",
    "print(f\"\\nTime taken: {elapsed_time:.2f} seconds\")"
   ]
  },
  {
   "cell_type": "code",
   "execution_count": null,
   "id": "b141f913-e40e-4bcb-b240-c564a10d2309",
   "metadata": {},
   "outputs": [],
   "source": []
  }
 ],
 "metadata": {
  "kernelspec": {
   "display_name": "note-taker-kernel",
   "language": "python",
   "name": "note-taker-kernel"
  },
  "language_info": {
   "codemirror_mode": {
    "name": "ipython",
    "version": 3
   },
   "file_extension": ".py",
   "mimetype": "text/x-python",
   "name": "python",
   "nbconvert_exporter": "python",
   "pygments_lexer": "ipython3",
   "version": "3.12.5"
  }
 },
 "nbformat": 4,
 "nbformat_minor": 5
}
