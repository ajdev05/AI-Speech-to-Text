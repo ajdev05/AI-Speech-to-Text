{
 "cells": [
  {
   "cell_type": "code",
   "execution_count": 3,
   "id": "4e150414-658f-4e19-9bab-b2c5a27bb3cc",
   "metadata": {},
   "outputs": [],
   "source": [
    "import whisper\n",
    "import torch\n",
    "import warnings\n",
    "import time\n",
    "\n",
    "warnings.filterwarnings(\"ignore\", category=FutureWarning)\n"
   ]
  },
  {
   "cell_type": "code",
   "execution_count": 4,
   "id": "6b29337c-9e32-4a72-ab27-360088d10e42",
   "metadata": {},
   "outputs": [],
   "source": [
    "model = whisper.load_model(\"medium.en\")\n"
   ]
  },
  {
   "cell_type": "code",
   "execution_count": 9,
   "id": "7d9b63b9-fb92-4b8c-93bf-64037181b149",
   "metadata": {},
   "outputs": [],
   "source": [
    "def transcribe_process(audio_file, num_passes=5):\n",
    "    transcriptions = []\n",
    "    print(\"Running Analysis...\")\n",
    "    for i in range(num_passes):\n",
    "        result = model.transcribe(audio_file, temperature=0.0, best_of=5)  \n",
    "        transcriptions.append(result['text'].strip())\n",
    "\n",
    "    most_common_transcription = max(set(transcriptions), key=transcriptions.count)\n",
    "    return most_common_transcription"
   ]
  },
  {
   "cell_type": "code",
   "execution_count": 10,
   "id": "1b9e861a-9b0c-47ef-8739-d8dd78ee6b2f",
   "metadata": {},
   "outputs": [
    {
     "name": "stdout",
     "output_type": "stream",
     "text": [
      "Running Analysis...\n",
      "\n",
      "Final Transcription: hello there how are you very cool day very cool night it's a very cool time that we're having you know it's good that's good it's good I like it like it what's what's happening I mean Wall Street bets just I am juiced I mean you know it's just pretty crazy what's been happening yeah stock price are flying off the roof yeah stock prices are just flying off the roof\n",
      "\n",
      "Time taken: 14.23 seconds\n"
     ]
    }
   ],
   "source": [
    "start_time = time.time()\n",
    "final_transcription = transcribe_with_confidence(\"live_recording.wav\")\n",
    "elapsed_time = time.time() - start_time\n",
    "print(\"\\nFinal Transcription:\", final_transcription)\n",
    "print(f\"\\nTime taken: {elapsed_time:.2f} seconds\")"
   ]
  },
  {
   "cell_type": "code",
   "execution_count": null,
   "id": "b141f913-e40e-4bcb-b240-c564a10d2309",
   "metadata": {},
   "outputs": [],
   "source": []
  }
 ],
 "metadata": {
  "kernelspec": {
   "display_name": "note-taker-kernel",
   "language": "python",
   "name": "note-taker-kernel"
  },
  "language_info": {
   "codemirror_mode": {
    "name": "ipython",
    "version": 3
   },
   "file_extension": ".py",
   "mimetype": "text/x-python",
   "name": "python",
   "nbconvert_exporter": "python",
   "pygments_lexer": "ipython3",
   "version": "3.12.5"
  }
 },
 "nbformat": 4,
 "nbformat_minor": 5
}
