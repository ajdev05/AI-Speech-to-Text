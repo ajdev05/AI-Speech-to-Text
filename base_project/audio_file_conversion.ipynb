{
 "cells": [
  {
   "cell_type": "code",
   "execution_count": 13,
   "id": "9733bfb0-8e97-4b79-98d7-56e3e85eb430",
   "metadata": {},
   "outputs": [],
   "source": [
    "import whisper\n",
    "import torch\n",
    "import warnings\n",
    "import time"
   ]
  },
  {
   "cell_type": "code",
   "execution_count": 14,
   "id": "993cc86b-2c08-453e-8ee7-61aebdbdf1cf",
   "metadata": {},
   "outputs": [],
   "source": [
    "warnings.filterwarnings(\"ignore\", category=FutureWarning)\n"
   ]
  },
  {
   "cell_type": "code",
   "execution_count": 15,
   "id": "c208ecd8-0936-4695-9b72-12ce4d57fb3b",
   "metadata": {},
   "outputs": [
    {
     "name": "stdout",
     "output_type": "stream",
     "text": [
      "PyTorch version: 2.4.1\n",
      "CUDA version in PyTorch: 12.1\n",
      "Is CUDA available: True\n",
      "Device name: NVIDIA GeForce RTX 4070 Ti SUPER\n"
     ]
    }
   ],
   "source": [
    "print(f\"PyTorch version: {torch.__version__}\")\n",
    "print(f\"CUDA version in PyTorch: {torch.version.cuda}\")\n",
    "print(f\"Is CUDA available: {torch.cuda.is_available()}\")\n",
    "\n",
    "if torch.cuda.is_available():\n",
    "    print(f\"Device name: {torch.cuda.get_device_name(0)}\")"
   ]
  },
  {
   "cell_type": "code",
   "execution_count": 16,
   "id": "d7c261c0-9b8b-4a87-9ae5-7616f63cb862",
   "metadata": {},
   "outputs": [],
   "source": [
    "model = whisper.load_model(\"medium.en\")\n"
   ]
  },
  {
   "cell_type": "code",
   "execution_count": 20,
   "id": "1cd6e8f6-109d-40e6-bd65-dbd626b0dbe4",
   "metadata": {},
   "outputs": [
    {
     "name": "stdout",
     "output_type": "stream",
     "text": [
      " Apple's up more than 6% right now, Google about 3%, but Dell, Intel, Research Motion, and Microsoft are all to the upside. Look how strong. Trading did not disappoint. 400 points higher, yes indeed. The market's more higher, last 30 minutes of trading, as volatility once again rules the day. Most of the techs this morning, if not all of them, have just exploded to the... We're down 1.7% here, a loss of 37 points or so. Apple shares were just getting hammered this morning. We're down by between 3 and 4.5% generally across these markets. Let's talk about the speed with which we are watching this market deteriorate. We've read everywhere essentially, down by 4, 5%. We're down over 16%. Dow at the same time has fallen about 18%. The stock market is now down 21%. We're now down 43%. What in the world is happening on Wall Street? Two year no yields went from 190 to 166 in the blink of an eye. The Nasdaq, everything and more has been completely wiped out. It was the worst day on Wall Street since the crash of 1987. The financial capital of the world. The opening bell is going to ring in five seconds and to be honest with you, we wish it wouldn't. Traders here working the phone say a lot of their customers are freaked out waiting to see how low the Dow will go. They're focused on the Dow, not so focused on OK. Yes, OK did cut production by 1.5 million barrels per day. Really you're seeing just broad-based declines across all of the major technology sectors. Apple's under pressure. Yahoo down 8.5%, Cisco 6.5%, research in motion 10%. And we're not getting the bid wanted, we're not getting the stop trading and we see where the buyers are. We're just, every day they're pounding it. The heightened financial turmoil that we have experienced of late may well lengthen the period of weak economic performance and further increase the risk to growth. Can't look at it after you buy it because it's so horrible. We've had an eight day losing streak in the Dow that in percentage terms puts it on par close to the loss suffered in that crash in 1987, close to that percentage loss those two days in 1929. What started in America last year has now spread to every part of the world. We're down 9% today, the Zetra Dax over in Frankfurt is down by 9%, the Paris market down by 9%, Austria which was briefly suspended earlier on in the day is down by nearly 11%. This market is as volatile as you'll ever see. Traders say this is the craziest day they have ever seen in these markets. Veteran traders say they've never seen anything like it. The movement in oil prices so fast. Seconds ago until the start of trading at the New York Stock Exchange and stocks are set to kick off lower, a whole lot lower. eBay is down 6.5% and really you're seeing just broad based declines across all of the major technology sectors. Apple's under pressure, Yahoo down 8.5%, Cisco 6.5%, Research in Motion 10%. This could be the most serious recession in decades and that means life as most Americans know it is about to change, in some cases dramatically.\n",
      "\n",
      " \n",
      "Time taken: 18.69 seconds\n"
     ]
    }
   ],
   "source": [
    "start_time = time.time() \n",
    "result = model.transcribe(\"crashing.mp3\")\n",
    "elapsed_time = time.time() - start_time \n",
    "\n",
    "print(result[\"text\"])\n",
    "print(f\"\\n \\nTime taken: {elapsed_time:.2f} seconds\")\n"
   ]
  },
  {
   "cell_type": "code",
   "execution_count": null,
   "id": "b9e6c5f9-79dd-46e7-8dc5-d6830c0b0958",
   "metadata": {},
   "outputs": [],
   "source": []
  }
 ],
 "metadata": {
  "kernelspec": {
   "display_name": "note-taker-kernel",
   "language": "python",
   "name": "note-taker-kernel"
  },
  "language_info": {
   "codemirror_mode": {
    "name": "ipython",
    "version": 3
   },
   "file_extension": ".py",
   "mimetype": "text/x-python",
   "name": "python",
   "nbconvert_exporter": "python",
   "pygments_lexer": "ipython3",
   "version": "3.12.5"
  }
 },
 "nbformat": 4,
 "nbformat_minor": 5
}
